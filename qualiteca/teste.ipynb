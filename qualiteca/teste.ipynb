{
 "cells": [
  {
   "cell_type": "code",
   "execution_count": 1,
   "metadata": {},
   "outputs": [],
   "source": [
    "from models import Emprestimo, session, Livro, Usuario, agora\n",
    "from io import BytesIO"
   ]
  },
  {
   "cell_type": "code",
   "execution_count": 2,
   "metadata": {},
   "outputs": [
    {
     "data": {
      "text/plain": [
       "Usuario(_sa_instance_state=<sqlalchemy.orm.state.InstanceState object at 0x7faae771f950>)"
      ]
     },
     "execution_count": 2,
     "metadata": {},
     "output_type": "execute_result"
    }
   ],
   "source": [
    "user = Usuario.adicionar(nome='Ramilton Silva Lima', email='ramilton.silva.lima@live.com')\n",
    "user"
   ]
  },
  {
   "cell_type": "code",
   "execution_count": 3,
   "metadata": {},
   "outputs": [
    {
     "data": {
      "text/plain": [
       "Livro(_sa_instance_state=<sqlalchemy.orm.state.InstanceState object at 0x7faae771ccb0>)"
      ]
     },
     "execution_count": 3,
     "metadata": {},
     "output_type": "execute_result"
    }
   ],
   "source": [
    "livro = Livro.adicionar(\n",
    "    titulo='Viagem centro da terra',\n",
    "    autor='Julio',\n",
    "    genero='sdfsdf',\n",
    "    doador_id = 2,\n",
    "    foto_livro = BytesIO(b'valores').getvalue(),\n",
    "    observacao = 'teste',\n",
    "    extensao_foto = 'jpg'\n",
    ")\n",
    "livro"
   ]
  },
  {
   "cell_type": "code",
   "execution_count": 4,
   "metadata": {},
   "outputs": [
    {
     "data": {
      "text/plain": [
       "Emprestimo(_sa_instance_state=<sqlalchemy.orm.state.InstanceState object at 0x7faae7781970>)"
      ]
     },
     "execution_count": 4,
     "metadata": {},
     "output_type": "execute_result"
    }
   ],
   "source": [
    "emprestimo = Emprestimo.adicionar(\n",
    "    leitor_id = user.id,\n",
    "    livro_id = livro.id,\n",
    "    emprestado_em = agora(),\n",
    "    devolucao_em = agora().add(days=4)\n",
    ")\n",
    "emprestimo"
   ]
  },
  {
   "cell_type": "code",
   "execution_count": 10,
   "metadata": {},
   "outputs": [
    {
     "data": {
      "text/plain": [
       "[Emprestimo(_sa_instance_state=<sqlalchemy.orm.state.InstanceState object at 0x7faae7781970>, leitor_id=1, devolucao_em=datetime.date(2023, 11, 18), vezes_adiado=0, excluido_em=None, registrado_em=datetime.datetime(2023, 11, 14, 3, 23, 14, 682667), devolvido_em=None, emprestado_em=datetime.date(2023, 11, 14), livro_id=1, editado_em=None, id=1)]"
      ]
     },
     "execution_count": 10,
     "metadata": {},
     "output_type": "execute_result"
    }
   ],
   "source": [
    "user.emprestimos_pendentes()"
   ]
  },
  {
   "cell_type": "code",
   "execution_count": 12,
   "metadata": {},
   "outputs": [
    {
     "data": {
      "text/plain": [
       "<filter at 0x7faae77c7f70>"
      ]
     },
     "execution_count": 12,
     "metadata": {},
     "output_type": "execute_result"
    }
   ],
   "source": [
    "user.emprestimos\n",
    "filter(lambda x: not x.devolvido, user.emprestimos)"
   ]
  },
  {
   "cell_type": "code",
   "execution_count": 13,
   "metadata": {},
   "outputs": [
    {
     "data": {
      "text/plain": [
       "[Emprestimo(_sa_instance_state=<sqlalchemy.orm.state.InstanceState object at 0x7faae7781970>, leitor_id=1, devolucao_em=datetime.date(2023, 11, 18), vezes_adiado=0, excluido_em=None, registrado_em=datetime.datetime(2023, 11, 14, 3, 23, 14, 682667), devolvido_em=None, emprestado_em=datetime.date(2023, 11, 14), livro_id=1, editado_em=None, id=1)]"
      ]
     },
     "execution_count": 13,
     "metadata": {},
     "output_type": "execute_result"
    }
   ],
   "source": [
    "list(_)"
   ]
  }
 ],
 "metadata": {
  "kernelspec": {
   "display_name": ".venv",
   "language": "python",
   "name": "python3"
  },
  "language_info": {
   "codemirror_mode": {
    "name": "ipython",
    "version": 3
   },
   "file_extension": ".py",
   "mimetype": "text/x-python",
   "name": "python",
   "nbconvert_exporter": "python",
   "pygments_lexer": "ipython3",
   "version": "3.11.5"
  }
 },
 "nbformat": 4,
 "nbformat_minor": 2
}
